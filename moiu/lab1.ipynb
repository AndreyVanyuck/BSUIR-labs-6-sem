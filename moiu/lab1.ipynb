{
 "cells": [
  {
   "cell_type": "markdown",
   "id": "reported-arizona",
   "metadata": {},
   "source": [
    "![](https://sun9-1.userapi.com/impf/ZRocoBpOifxjb8y4tbaAV3GR8VVelfyYOT8XUg/00JGtzKDVMw.jpg?size=744x670&quality=96&proxy=1&sign=4e31bf9fe77c13f007d6e82b67ac02c8&type=album)\n",
    "![](https://sun9-58.userapi.com/impf/yVZoLm6ZWacjfEycgQeCyBrx68uOauCNDqkxSg/9iNy3_aR_dY.jpg?size=727x431&quality=96&proxy=1&sign=4e3f8453cd3f1ad96a477dfa02cb8752&type=album)\n",
    "![](https://sun9-74.userapi.com/impf/3G05QnTWGVExX4c_eKXFBbFmc2VMj3Ssrt5s_Q/ZfjcjgcIgjo.jpg?size=719x217&quality=96&proxy=1&sign=35e306053ff70d61d769e21a5a60bc62&type=album)"
   ]
  },
  {
   "cell_type": "code",
   "execution_count": 2,
   "id": "relative-heath",
   "metadata": {},
   "outputs": [],
   "source": [
    "import numpy as np"
   ]
  },
  {
   "cell_type": "code",
   "execution_count": 3,
   "id": "oriental-retro",
   "metadata": {},
   "outputs": [],
   "source": [
    "def is_invertible(A_inv: np.array, x: np.array, i: int) -> None:\n",
    "    i -= 1\n",
    "    \n",
    "    #### STEP 1 ####\n",
    "    l = np.dot(A_inv, x)\n",
    "    \n",
    "    \n",
    "    #### STEP 2 ####\n",
    "    if l[i] == 0:\n",
    "        print(\"NO\")\n",
    "        return\n",
    "    l_wave = l.copy()\n",
    "    l_wave[i] = -1\n",
    "    \n",
    "    \n",
    "    #### STEP 3 ####\n",
    "    l_caret = l_wave/(-l[i])\n",
    "    \n",
    "    \n",
    "    #### STEP 4 ####\n",
    "    Q = np.identity(len(A))\n",
    "    Q[:, i] = l_caret\n",
    "    \n",
    "    \n",
    "    #### STEP 5 ####\n",
    "    numpy_mul_result = Q.dot(A_inv)\n",
    "    print(numpy_mul_result)\n",
    "    \n",
    "    my_mul_result = np.zeros((len(A), len(A)))\n",
    "    \n",
    "    for n in range(len(A_inv)):\n",
    "        for m in range(len(A_inv)):\n",
    "#             print(f\"[{n}][{m}] = {Q[n,n]} * { A_inv[n,m]} + {Q[n,i]} * {A_inv[i, m]}\")\n",
    "            if i == n:\n",
    "                my_mul_result[n, m] = Q[n,n] * A_inv[n,m]\n",
    "                continue\n",
    "            my_mul_result[n, m]= Q[n,n] * A_inv[n,m] + Q[n,i] * A_inv[i, m]   \n",
    "            \n",
    "    print(my_mul_result)\n",
    "    \n",
    "    print(\"YES\")\n",
    "    return"
   ]
  },
  {
   "cell_type": "code",
   "execution_count": 4,
   "id": "killing-latitude",
   "metadata": {},
   "outputs": [],
   "source": [
    "i = 3\n",
    "A = np.array([[1, -1, 0],\n",
    "     [0, 1, 0],\n",
    "     [0, 0, 1]])\n",
    "A_inv = np.array([[1, 1, 0],\n",
    "                 [0, 1, 0],\n",
    "                 [0, 0, 1]])\n",
    "x = np.array([1, 0, 1])"
   ]
  },
  {
   "cell_type": "code",
   "execution_count": 5,
   "id": "purple-brain",
   "metadata": {},
   "outputs": [
    {
     "name": "stdout",
     "output_type": "stream",
     "text": [
      "[[ 1.  1. -1.]\n",
      " [ 0.  1.  0.]\n",
      " [ 0.  0.  1.]]\n",
      "[[ 1.  1. -1.]\n",
      " [ 0.  1.  0.]\n",
      " [ 0.  0.  1.]]\n",
      "YES\n"
     ]
    }
   ],
   "source": [
    "is_invertible(A_inv, x, i)"
   ]
  },
  {
   "cell_type": "code",
   "execution_count": 6,
   "id": "spiritual-exhaust",
   "metadata": {},
   "outputs": [],
   "source": [
    "i = 3\n",
    "A = np.array([[1, -1, 0],\n",
    "     [0, 1, 0],\n",
    "     [0, 1, 1]])\n",
    "A_inv = np.array([[1, 1, 0],\n",
    "                 [0, 1, 0],\n",
    "                 [0, -1, 1]])\n",
    "x = np.array([0, 1, 1])"
   ]
  },
  {
   "cell_type": "code",
   "execution_count": 7,
   "id": "liable-narrow",
   "metadata": {},
   "outputs": [
    {
     "name": "stdout",
     "output_type": "stream",
     "text": [
      "NO\n"
     ]
    }
   ],
   "source": [
    "is_invertible(A_inv, x, i)"
   ]
  },
  {
   "cell_type": "code",
   "execution_count": 8,
   "id": "brazilian-parent",
   "metadata": {},
   "outputs": [],
   "source": [
    "i = 2\n",
    "A = np.array([[1, 0, 5],\n",
    "     [2, 1, 5],\n",
    "     [3, 4, 0]])\n",
    "A_inv = np.array([[-24, 20, -5],\n",
    "                 [18, -15, 4],\n",
    "                 [5, -4, 1]])\n",
    "x = np.array([2, 2, 2])"
   ]
  },
  {
   "cell_type": "code",
   "execution_count": 9,
   "id": "brave-stephen",
   "metadata": {},
   "outputs": [
    {
     "name": "stdout",
     "output_type": "stream",
     "text": [
      "[[-0.85714286  0.71428571  0.14285714]\n",
      " [ 1.28571429 -1.07142857  0.28571429]\n",
      " [-0.14285714  0.28571429 -0.14285714]]\n",
      "[[-0.85714286  0.71428571  0.14285714]\n",
      " [ 1.28571429 -1.07142857  0.28571429]\n",
      " [-0.14285714  0.28571429 -0.14285714]]\n",
      "YES\n"
     ]
    }
   ],
   "source": [
    "is_invertible(A_inv, x, i)"
   ]
  }
 ],
 "metadata": {
  "kernelspec": {
   "display_name": "Python 3",
   "language": "python",
   "name": "python3"
  },
  "language_info": {
   "codemirror_mode": {
    "name": "ipython",
    "version": 3
   },
   "file_extension": ".py",
   "mimetype": "text/x-python",
   "name": "python",
   "nbconvert_exporter": "python",
   "pygments_lexer": "ipython3",
   "version": "3.8.5"
  }
 },
 "nbformat": 4,
 "nbformat_minor": 5
}
